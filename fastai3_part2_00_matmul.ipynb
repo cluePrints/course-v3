{
  "nbformat": 4,
  "nbformat_minor": 0,
  "metadata": {
    "colab": {
      "name": "fastai3_part2: 00_matmul.ipynb",
      "version": "0.3.2",
      "provenance": [],
      "collapsed_sections": [],
      "include_colab_link": true
    },
    "kernelspec": {
      "name": "python3",
      "display_name": "Python 3"
    }
  },
  "cells": [
    {
      "cell_type": "markdown",
      "metadata": {
        "id": "view-in-github",
        "colab_type": "text"
      },
      "source": [
        "<a href=\"https://colab.research.google.com/github/cluePrints/course-v3/blob/master/fastai3_part2_00_matmul.ipynb\" target=\"_parent\"><img src=\"https://colab.research.google.com/assets/colab-badge.svg\" alt=\"Open In Colab\"/></a>"
      ]
    },
    {
      "metadata": {
        "id": "gZflDvq34_Xt",
        "colab_type": "code",
        "colab": {}
      },
      "cell_type": "code",
      "source": [
        "%matplotlib inline"
      ],
      "execution_count": 0,
      "outputs": []
    },
    {
      "metadata": {
        "id": "2i11DxowimSy",
        "colab_type": "code",
        "colab": {}
      },
      "cell_type": "code",
      "source": [
        "from torch import tensor\n",
        "import numpy as np\n",
        "import torch"
      ],
      "execution_count": 0,
      "outputs": []
    },
    {
      "metadata": {
        "id": "oOjvox0pjGIF",
        "colab_type": "code",
        "colab": {}
      },
      "cell_type": "code",
      "source": [
        "def test_roughly_eq(m1, m2, tolerance=1e-5):\n",
        "  assert ((m1-m2).abs() > tolerance).sum() == 0, f\"Expected:\\n {m1}\\n But actual was: \\n {m2}\"\n",
        "\n",
        "\n",
        "def check_can_multiply_3x1_and_1x3(func):\n",
        "  tensor1 = torch.arange(0, 3, 1.).unsqueeze(1)\n",
        "  tensor2 = (torch.arange(0, 3, 1.)*10).unsqueeze(0)\n",
        "  torch_mul = tensor1 @ tensor2\n",
        "  own_mul = func(tensor1, tensor2)\n",
        "\n",
        "  test_roughly_eq(torch_mul, own_mul)\n",
        "\n",
        "def check_can_multiply_3x2_and_2x3(func):\n",
        "  tensor1 = torch.arange(0, 3, 1.).unsqueeze(1).repeat((1, 2))\n",
        "  tensor2 = (torch.arange(0, 3, 1.)*10).unsqueeze(0).repeat((2, 1))\n",
        "  torch_mul = tensor1 @ tensor2\n",
        "  own_mul = func(tensor1, tensor2)\n",
        "\n",
        "  test_roughly_eq(torch_mul, own_mul)\n",
        "  \n",
        "def run_tests(func):\n",
        "  check_can_multiply_3x1_and_1x3(func)\n",
        "  check_can_multiply_3x2_and_2x3(func)\n",
        "\n",
        "def matmul_1(ltensor, rtensor):\n",
        "  result = torch.zeros(ltensor.shape[0], rtensor.shape[1])\n",
        "  for lrow in range(ltensor.shape[0]):\n",
        "    for rcol in range(rtensor.shape[1]):\n",
        "      for k in range(ltensor.shape[1]):\n",
        "        result[lrow, rcol] += ltensor[lrow, k] * rtensor[k, rcol];\n",
        "  return result;\n",
        "\n",
        "run_tests(matmul_1)"
      ],
      "execution_count": 0,
      "outputs": []
    },
    {
      "metadata": {
        "id": "ULOSsCNAlkYH",
        "colab_type": "code",
        "colab": {}
      },
      "cell_type": "code",
      "source": [
        "def matmul_2(ltensor, rtensor):\n",
        "  result = torch.zeros(ltensor.shape[0], rtensor.shape[1])\n",
        "  for lrow in range(ltensor.shape[0]):\n",
        "    for rcol in range(rtensor.shape[1]):\n",
        "      result[lrow, rcol] = (ltensor[lrow, :] * rtensor[:, rcol]).sum();\n",
        "  return result;\n",
        "\n",
        "run_tests(matmul_2)"
      ],
      "execution_count": 0,
      "outputs": []
    },
    {
      "metadata": {
        "id": "s_8UlPpkoFg-",
        "colab_type": "code",
        "colab": {}
      },
      "cell_type": "code",
      "source": [
        "def matmul_3(ltensor, rtensor):\n",
        "  result = torch.zeros(ltensor.shape[0], rtensor.shape[1])\n",
        "  for lrow in range(ltensor.shape[0]):\n",
        "    # result[lrow, rcol] = (ltensor[lrow, :] * rtensor[:, rcol]).sum();\n",
        "    result[lrow, :] = (ltensor[lrow, :].unsqueeze(-1) * rtensor).sum(dim=0)\n",
        "  return result;\n",
        "\n",
        "run_tests(matmul_3)"
      ],
      "execution_count": 0,
      "outputs": []
    },
    {
      "metadata": {
        "id": "34_4R389zyCS",
        "colab_type": "code",
        "colab": {}
      },
      "cell_type": "code",
      "source": [
        "def matmul_4(ltensor, rtensor):\n",
        "  return torch.einsum('ij,jk -> ik', ltensor, rtensor);\n",
        "\n",
        "run_tests(matmul_4)"
      ],
      "execution_count": 0,
      "outputs": []
    },
    {
      "metadata": {
        "id": "RYD1pXRepILY",
        "colab_type": "code",
        "colab": {
          "base_uri": "https://localhost:8080/",
          "height": 493
        },
        "outputId": "7aa6b4a6-7c9f-450c-e0cf-9ea317624308"
      },
      "cell_type": "code",
      "source": [
        "import timeit\n",
        "from collections import defaultdict\n",
        "series = defaultdict(list)\n",
        "\n",
        "tested_functions = {\n",
        "    'for loops': matmul_1,\n",
        "    'broadcast1': matmul_2,\n",
        "    'broadcast2': matmul_3,\n",
        "    'einsum': matmul_4,\n",
        "    'torch': lambda m,n: m @ n\n",
        "}\n",
        "\n",
        "for size in [10, 100, 150, 200]:\n",
        "  print(f'\\n= Testing size {size}')\n",
        "  series['size'].append(size)  \n",
        "  tensor1 = torch.arange(0, size, 1.).unsqueeze(1)\n",
        "  tensor2 = (torch.arange(0, size, 1.)*10).unsqueeze(0)\n",
        "  for name, f in tested_functions.items():\n",
        "    print(f'Timing {name}')\n",
        "    elapsed = timeit.timeit('f(tensor1, tensor2)', globals=globals(), number=15)\n",
        "    series[name].append(elapsed)"
      ],
      "execution_count": 8,
      "outputs": [
        {
          "output_type": "stream",
          "text": [
            "\n",
            "= Testing size 10\n",
            "Timing for loops\n",
            "Timing broadcast1\n",
            "Timing broadcast2\n",
            "Timing einsum\n",
            "Timing torch\n",
            "\n",
            "= Testing size 100\n",
            "Timing for loops\n",
            "Timing broadcast1\n",
            "Timing broadcast2\n",
            "Timing einsum\n",
            "Timing torch\n",
            "\n",
            "= Testing size 150\n",
            "Timing for loops\n",
            "Timing broadcast1\n",
            "Timing broadcast2\n",
            "Timing einsum\n",
            "Timing torch\n",
            "\n",
            "= Testing size 200\n",
            "Timing for loops\n",
            "Timing broadcast1\n",
            "Timing broadcast2\n",
            "Timing einsum\n",
            "Timing torch\n"
          ],
          "name": "stdout"
        }
      ]
    },
    {
      "metadata": {
        "id": "9Vp6dGE249J-",
        "colab_type": "code",
        "colab": {}
      },
      "cell_type": "code",
      "source": [
        "import pandas as pd\n",
        "sizes = series['size']\n",
        "del series['size']\n",
        "df = pd.DataFrame(series, index=sizes)"
      ],
      "execution_count": 0,
      "outputs": []
    },
    {
      "metadata": {
        "id": "XypreKgE4-b7",
        "colab_type": "code",
        "colab": {
          "base_uri": "https://localhost:8080/",
          "height": 173
        },
        "outputId": "b0516fc6-cd4f-4f66-8070-eb75120b44ca"
      },
      "cell_type": "code",
      "source": [
        "df"
      ],
      "execution_count": 10,
      "outputs": [
        {
          "output_type": "execute_result",
          "data": {
            "text/html": [
              "<div>\n",
              "<style scoped>\n",
              "    .dataframe tbody tr th:only-of-type {\n",
              "        vertical-align: middle;\n",
              "    }\n",
              "\n",
              "    .dataframe tbody tr th {\n",
              "        vertical-align: top;\n",
              "    }\n",
              "\n",
              "    .dataframe thead th {\n",
              "        text-align: right;\n",
              "    }\n",
              "</style>\n",
              "<table border=\"1\" class=\"dataframe\">\n",
              "  <thead>\n",
              "    <tr style=\"text-align: right;\">\n",
              "      <th></th>\n",
              "      <th>broadcast1</th>\n",
              "      <th>broadcast2</th>\n",
              "      <th>einsum</th>\n",
              "      <th>for loops</th>\n",
              "      <th>torch</th>\n",
              "    </tr>\n",
              "  </thead>\n",
              "  <tbody>\n",
              "    <tr>\n",
              "      <th>10</th>\n",
              "      <td>0.026956</td>\n",
              "      <td>0.003245</td>\n",
              "      <td>0.000740</td>\n",
              "      <td>0.030554</td>\n",
              "      <td>0.000307</td>\n",
              "    </tr>\n",
              "    <tr>\n",
              "      <th>100</th>\n",
              "      <td>2.525241</td>\n",
              "      <td>0.028746</td>\n",
              "      <td>0.000793</td>\n",
              "      <td>2.532421</td>\n",
              "      <td>0.000383</td>\n",
              "    </tr>\n",
              "    <tr>\n",
              "      <th>150</th>\n",
              "      <td>5.679738</td>\n",
              "      <td>0.045510</td>\n",
              "      <td>0.000761</td>\n",
              "      <td>5.645897</td>\n",
              "      <td>0.000411</td>\n",
              "    </tr>\n",
              "    <tr>\n",
              "      <th>200</th>\n",
              "      <td>10.064257</td>\n",
              "      <td>0.063894</td>\n",
              "      <td>0.000828</td>\n",
              "      <td>10.050815</td>\n",
              "      <td>0.000439</td>\n",
              "    </tr>\n",
              "  </tbody>\n",
              "</table>\n",
              "</div>"
            ],
            "text/plain": [
              "     broadcast1  broadcast2    einsum  for loops     torch\n",
              "10     0.026956    0.003245  0.000740   0.030554  0.000307\n",
              "100    2.525241    0.028746  0.000793   2.532421  0.000383\n",
              "150    5.679738    0.045510  0.000761   5.645897  0.000411\n",
              "200   10.064257    0.063894  0.000828  10.050815  0.000439"
            ]
          },
          "metadata": {
            "tags": []
          },
          "execution_count": 10
        }
      ]
    },
    {
      "metadata": {
        "id": "25aIf15u5yiO",
        "colab_type": "code",
        "colab": {
          "base_uri": "https://localhost:8080/",
          "height": 445
        },
        "outputId": "f5fe9bbf-6e18-4d7f-8d04-bf2ad70e6938"
      },
      "cell_type": "code",
      "source": [
        "df.plot(figsize=(14, 7), logy=True)"
      ],
      "execution_count": 11,
      "outputs": [
        {
          "output_type": "execute_result",
          "data": {
            "text/plain": [
              "<matplotlib.axes._subplots.AxesSubplot at 0x7f04b9486828>"
            ]
          },
          "metadata": {
            "tags": []
          },
          "execution_count": 11
        },
        {
          "output_type": "display_data",
          "data": {
            "image/png": "[encoded data removed]",
            "text/plain": [
              "<Figure size 1008x504 with 1 Axes>"
            ]
          },
          "metadata": {
            "tags": []
          }
        }
      ]
    },
    {
      "metadata": {
        "id": "32K7Qhi2BGwH",
        "colab_type": "text"
      },
      "cell_type": "markdown",
      "source": [
        "# Named tensor"
      ]
    },
    {
      "metadata": {
        "id": "Nl95Aly47Y1N",
        "colab_type": "code",
        "colab": {
          "base_uri": "https://localhost:8080/",
          "height": 34
        },
        "outputId": "f6527cdd-0592-47eb-9ea1-26753c11003b"
      },
      "cell_type": "code",
      "source": [
        "!pip install git+https://github.com/harvardnlp/namedtensor -q"
      ],
      "execution_count": 12,
      "outputs": [
        {
          "output_type": "stream",
          "text": [
            "  Building wheel for namedtensor (setup.py) ... \u001b[?25ldone\n",
            "\u001b[?25h"
          ],
          "name": "stdout"
        }
      ]
    },
    {
      "metadata": {
        "id": "h561OAIU-PVp",
        "colab_type": "code",
        "colab": {
          "base_uri": "https://localhost:8080/",
          "height": 85
        },
        "outputId": "494bb864-580d-48af-a896-13e501b9be11"
      },
      "cell_type": "code",
      "source": [
        "from namedtensor import ntorch\n",
        "a = ntorch.tensor(torch.arange(0, 3, 1.).unsqueeze(1).repeat((1, 2)), names=('rows', 'cols'))\n",
        "b = ntorch.tensor((torch.arange(0, 3, 1.)*10).unsqueeze(0).repeat((2, 1)), names=('rows', 'cols'))\n",
        "b"
      ],
      "execution_count": 13,
      "outputs": [
        {
          "output_type": "execute_result",
          "data": {
            "text/plain": [
              "NamedTensor(\n",
              "\ttensor([[ 0., 10., 20.],\n",
              "        [ 0., 10., 20.]]),\n",
              "\t('rows', 'cols'))"
            ]
          },
          "metadata": {
            "tags": []
          },
          "execution_count": 13
        }
      ]
    },
    {
      "metadata": {
        "id": "z5bT7bEb-QYp",
        "colab_type": "code",
        "colab": {
          "base_uri": "https://localhost:8080/",
          "height": 68
        },
        "outputId": "00ab4990-e492-4993-d63a-ab8efc2801e7"
      },
      "cell_type": "code",
      "source": [
        "a[{'rows': 0}]"
      ],
      "execution_count": 14,
      "outputs": [
        {
          "output_type": "execute_result",
          "data": {
            "text/plain": [
              "NamedTensor(\n",
              "\ttensor([0., 0.]),\n",
              "\t('cols',))"
            ]
          },
          "metadata": {
            "tags": []
          },
          "execution_count": 14
        }
      ]
    },
    {
      "metadata": {
        "id": "IfadIuKHAoTt",
        "colab_type": "code",
        "colab": {
          "base_uri": "https://localhost:8080/",
          "height": 68
        },
        "outputId": "df53ac3f-aa08-4ac6-a3bc-fb42f4c4f43c"
      },
      "cell_type": "code",
      "source": [
        "b[{'rows': 0}]"
      ],
      "execution_count": 15,
      "outputs": [
        {
          "output_type": "execute_result",
          "data": {
            "text/plain": [
              "NamedTensor(\n",
              "\ttensor([ 0., 10., 20.]),\n",
              "\t('cols',))"
            ]
          },
          "metadata": {
            "tags": []
          },
          "execution_count": 15
        }
      ]
    },
    {
      "metadata": {
        "id": "uXGzVOQsDplR",
        "colab_type": "code",
        "colab": {
          "base_uri": "https://localhost:8080/",
          "height": 34
        },
        "outputId": "f480d1bc-28fc-4f82-8ab4-632e0c3e8ea7"
      },
      "cell_type": "code",
      "source": [
        "# Note to self: elementwise access looks ugly and not really designed for\n",
        "a[{'rows': 0, 'cols': 0}].numpy() * b[{'rows': 0, 'cols': 0}].numpy()"
      ],
      "execution_count": 16,
      "outputs": [
        {
          "output_type": "execute_result",
          "data": {
            "text/plain": [
              "0.0"
            ]
          },
          "metadata": {
            "tags": []
          },
          "execution_count": 16
        }
      ]
    },
    {
      "metadata": {
        "id": "YAPmhpz-Dv9C",
        "colab_type": "code",
        "colab": {
          "base_uri": "https://localhost:8080/",
          "height": 34
        },
        "outputId": "8aef61e9-7ab7-40f0-838e-0ae67c1b003c"
      },
      "cell_type": "code",
      "source": [
        "a[{'rows': 0, 'cols': 0}].numpy()"
      ],
      "execution_count": 17,
      "outputs": [
        {
          "output_type": "execute_result",
          "data": {
            "text/plain": [
              "array(0., dtype=float32)"
            ]
          },
          "metadata": {
            "tags": []
          },
          "execution_count": 17
        }
      ]
    },
    {
      "metadata": {
        "id": "G9TXTzyr7jfZ",
        "colab_type": "code",
        "colab": {
          "base_uri": "https://localhost:8080/",
          "height": 68
        },
        "outputId": "1b982c5b-85de-4019-ffbd-e99e51e19378"
      },
      "cell_type": "code",
      "source": [
        "def named_mul_1(ltensor, rtensor):\n",
        "  result = torch.zeros(ltensor.shape['rows'], rtensor.shape['cols'])\n",
        "  for lrow in range(ltensor.shape['rows']):\n",
        "    for rcol in range(rtensor.shape['cols']):\n",
        "      for k in range(ltensor.shape['cols']):\n",
        "        result[lrow, rcol] += ltensor[{'rows': lrow, 'cols': k}].numpy() * rtensor[{'rows': k, 'cols': rcol}].numpy();\n",
        "  return result;\n",
        "\n",
        "named_mul_1(a, b)"
      ],
      "execution_count": 18,
      "outputs": [
        {
          "output_type": "execute_result",
          "data": {
            "text/plain": [
              "tensor([[ 0.,  0.,  0.],\n",
              "        [ 0., 20., 40.],\n",
              "        [ 0., 40., 80.]])"
            ]
          },
          "metadata": {
            "tags": []
          },
          "execution_count": 18
        }
      ]
    },
    {
      "metadata": {
        "id": "zab4YKmWDEcJ",
        "colab_type": "code",
        "colab": {
          "base_uri": "https://localhost:8080/",
          "height": 34
        },
        "outputId": "632fd1c4-3f0f-429d-92a4-c0f7d1bf5d23"
      },
      "cell_type": "code",
      "source": [
        "a.shape"
      ],
      "execution_count": 19,
      "outputs": [
        {
          "output_type": "execute_result",
          "data": {
            "text/plain": [
              "OrderedDict([('rows', 3), ('cols', 2)])"
            ]
          },
          "metadata": {
            "tags": []
          },
          "execution_count": 19
        }
      ]
    },
    {
      "metadata": {
        "id": "d2WhHAg0FURL",
        "colab_type": "code",
        "colab": {
          "base_uri": "https://localhost:8080/",
          "height": 102
        },
        "outputId": "c2bba907-062a-44f0-f4bc-864c1afaeac9"
      },
      "cell_type": "code",
      "source": [
        "a"
      ],
      "execution_count": 20,
      "outputs": [
        {
          "output_type": "execute_result",
          "data": {
            "text/plain": [
              "NamedTensor(\n",
              "\ttensor([[0., 0.],\n",
              "        [1., 1.],\n",
              "        [2., 2.]]),\n",
              "\t('rows', 'cols'))"
            ]
          },
          "metadata": {
            "tags": []
          },
          "execution_count": 20
        }
      ]
    },
    {
      "metadata": {
        "id": "VwRdoTYRFVAZ",
        "colab_type": "code",
        "colab": {
          "base_uri": "https://localhost:8080/",
          "height": 85
        },
        "outputId": "23881137-d2a6-4087-a69d-a808783adbab"
      },
      "cell_type": "code",
      "source": [
        "b"
      ],
      "execution_count": 21,
      "outputs": [
        {
          "output_type": "execute_result",
          "data": {
            "text/plain": [
              "NamedTensor(\n",
              "\ttensor([[ 0., 10., 20.],\n",
              "        [ 0., 10., 20.]]),\n",
              "\t('rows', 'cols'))"
            ]
          },
          "metadata": {
            "tags": []
          },
          "execution_count": 21
        }
      ]
    },
    {
      "metadata": {
        "id": "93mf3ibQEdcc",
        "colab_type": "code",
        "colab": {
          "base_uri": "https://localhost:8080/",
          "height": 85
        },
        "outputId": "ebf7e6ea-4d34-4714-b2a2-8c52e540a2ec"
      },
      "cell_type": "code",
      "source": [
        "# Note to self: broadcasting looks nicer in writing, but in here both dims are broadcasted which is a bummer, especially given unsqueze ban\n",
        "a[{'rows':1}] * b[{'cols': 2}]"
      ],
      "execution_count": 22,
      "outputs": [
        {
          "output_type": "execute_result",
          "data": {
            "text/plain": [
              "NamedTensor(\n",
              "\ttensor([[20., 20.],\n",
              "        [20., 20.]]),\n",
              "\t('rows', 'cols'))"
            ]
          },
          "metadata": {
            "tags": []
          },
          "execution_count": 22
        }
      ]
    },
    {
      "metadata": {
        "id": "5fM6GlV_F64f",
        "colab_type": "code",
        "colab": {
          "base_uri": "https://localhost:8080/",
          "height": 34
        },
        "outputId": "563edfb5-5162-482f-e15d-f6c9d47e4454"
      },
      "cell_type": "code",
      "source": [
        "a[{'rows':1}].numpy() * b[{'cols': 2}].numpy()"
      ],
      "execution_count": 23,
      "outputs": [
        {
          "output_type": "execute_result",
          "data": {
            "text/plain": [
              "array([20., 20.], dtype=float32)"
            ]
          },
          "metadata": {
            "tags": []
          },
          "execution_count": 23
        }
      ]
    },
    {
      "metadata": {
        "id": "Yu8_j-RwGw8P",
        "colab_type": "code",
        "colab": {}
      },
      "cell_type": "code",
      "source": [
        ""
      ],
      "execution_count": 0,
      "outputs": []
    },
    {
      "metadata": {
        "id": "CvtAK6ERGWaq",
        "colab_type": "code",
        "colab": {
          "base_uri": "https://localhost:8080/",
          "height": 85
        },
        "outputId": "95162d03-a1fa-4973-b8df-ba5b7e3bc73b"
      },
      "cell_type": "code",
      "source": [
        "(a[{'rows':1}] * b[{'cols': 2}])"
      ],
      "execution_count": 24,
      "outputs": [
        {
          "output_type": "execute_result",
          "data": {
            "text/plain": [
              "NamedTensor(\n",
              "\ttensor([[20., 20.],\n",
              "        [20., 20.]]),\n",
              "\t('rows', 'cols'))"
            ]
          },
          "metadata": {
            "tags": []
          },
          "execution_count": 24
        }
      ]
    },
    {
      "metadata": {
        "id": "AkxuhJBnE4Z1",
        "colab_type": "code",
        "colab": {
          "base_uri": "https://localhost:8080/",
          "height": 68
        },
        "outputId": "eff541ce-7999-41a8-b959-63267c9ee0cd"
      },
      "cell_type": "code",
      "source": [
        "a[{'rows':1}]"
      ],
      "execution_count": 25,
      "outputs": [
        {
          "output_type": "execute_result",
          "data": {
            "text/plain": [
              "NamedTensor(\n",
              "\ttensor([1., 1.]),\n",
              "\t('cols',))"
            ]
          },
          "metadata": {
            "tags": []
          },
          "execution_count": 25
        }
      ]
    },
    {
      "metadata": {
        "id": "RsD5IiyPE5SO",
        "colab_type": "code",
        "colab": {
          "base_uri": "https://localhost:8080/",
          "height": 68
        },
        "outputId": "f84c9a46-d8fe-4168-969d-f75338796cc1"
      },
      "cell_type": "code",
      "source": [
        "b[{'cols': 2}]"
      ],
      "execution_count": 26,
      "outputs": [
        {
          "output_type": "execute_result",
          "data": {
            "text/plain": [
              "NamedTensor(\n",
              "\ttensor([20., 20.]),\n",
              "\t('rows',))"
            ]
          },
          "metadata": {
            "tags": []
          },
          "execution_count": 26
        }
      ]
    },
    {
      "metadata": {
        "id": "yeDX529sEk3m",
        "colab_type": "code",
        "colab": {
          "base_uri": "https://localhost:8080/",
          "height": 85
        },
        "outputId": "c43260a9-eb8a-4949-a2c2-f49b46d0918d"
      },
      "cell_type": "code",
      "source": [
        "a[{'rows':1}] * b[{'cols': 2}]"
      ],
      "execution_count": 27,
      "outputs": [
        {
          "output_type": "execute_result",
          "data": {
            "text/plain": [
              "NamedTensor(\n",
              "\ttensor([[20., 20.],\n",
              "        [20., 20.]]),\n",
              "\t('rows', 'cols'))"
            ]
          },
          "metadata": {
            "tags": []
          },
          "execution_count": 27
        }
      ]
    },
    {
      "metadata": {
        "id": "tUDJl-A2DE1N",
        "colab_type": "code",
        "colab": {
          "base_uri": "https://localhost:8080/",
          "height": 102
        },
        "outputId": "5b23bd78-00ea-4686-d4b4-5e7436c4ab9c"
      },
      "cell_type": "code",
      "source": [
        "def named_mul_2(ltensor, rtensor):\n",
        "  result = ntorch.zeros((ltensor.shape['rows'], rtensor.shape['cols']), names=('cols', 'rows'))\n",
        "  any_ = 0\n",
        "  for lrow in range(ltensor.shape['rows']):\n",
        "    for rcol in range(rtensor.shape['cols']):\n",
        "      # Note to self: scalars are so unintuitive Dimension () does not exist. Available dimensions are ()\n",
        "      broadcasted_on_both_dims = (ltensor[{'rows': lrow}] * rtensor[{'cols': rcol}])\n",
        "      single_dim_result = broadcasted_on_both_dims[{'rows': any_}]\n",
        "      result[{'rows': lrow, 'cols': rcol}] = int(single_dim_result.sum().numpy())\n",
        "  return result;\n",
        "\n",
        "named_mul_2(a, b)"
      ],
      "execution_count": 28,
      "outputs": [
        {
          "output_type": "execute_result",
          "data": {
            "text/plain": [
              "NamedTensor(\n",
              "\ttensor([[ 0.,  0.,  0.],\n",
              "        [ 0., 20., 40.],\n",
              "        [ 0., 40., 80.]]),\n",
              "\t('cols', 'rows'))"
            ]
          },
          "metadata": {
            "tags": []
          },
          "execution_count": 28
        }
      ]
    },
    {
      "metadata": {
        "id": "wJ3Zr0loJ2Mf",
        "colab_type": "code",
        "colab": {
          "base_uri": "https://localhost:8080/",
          "height": 521
        },
        "outputId": "28bf4e28-e57f-4f3c-8f3b-29d93642ddb5"
      },
      "cell_type": "code",
      "source": [
        "# result[lrow, rcol] = (ltensor[lrow, :] * rtensor[:, rcol]).sum();\n",
        "# result[lrow, :] = (ltensor[lrow, :].unsqueeze(-1) * rtensor).sum(dim=0)\n",
        "# Note to self: I guess that's the end of it, this sort of encapsulation makes it difficult for two different dimensions to interact looks good on images though\n",
        "a[{'rows': 1}] * b"
      ],
      "execution_count": 33,
      "outputs": [
        {
          "output_type": "error",
          "ename": "AssertionError",
          "evalue": "ignored",
          "traceback": [
            "\u001b[0;31m---------------------------------------------------------------------------\u001b[0m",
            "\u001b[0;31mAssertionError\u001b[0m                            Traceback (most recent call last)",
            "\u001b[0;32m<ipython-input-33-4040a9ab1afe>\u001b[0m in \u001b[0;36m<module>\u001b[0;34m()\u001b[0m\n\u001b[0;32m----> 1\u001b[0;31m \u001b[0ma\u001b[0m\u001b[0;34m[\u001b[0m\u001b[0;34m{\u001b[0m\u001b[0;34m'rows'\u001b[0m\u001b[0;34m:\u001b[0m \u001b[0;36m1\u001b[0m\u001b[0;34m}\u001b[0m\u001b[0;34m]\u001b[0m \u001b[0;34m*\u001b[0m \u001b[0mb\u001b[0m\u001b[0;34m\u001b[0m\u001b[0;34m\u001b[0m\u001b[0m\n\u001b[0m",
            "\u001b[0;32m/usr/local/lib/python3.6/dist-packages/namedtensor/torch_helpers.py\u001b[0m in \u001b[0;36m__mul__\u001b[0;34m(self, b)\u001b[0m\n\u001b[1;32m    171\u001b[0m \u001b[0;34m\u001b[0m\u001b[0m\n\u001b[1;32m    172\u001b[0m     \u001b[0;32mdef\u001b[0m \u001b[0m__mul__\u001b[0m\u001b[0;34m(\u001b[0m\u001b[0mself\u001b[0m\u001b[0;34m,\u001b[0m \u001b[0mb\u001b[0m\u001b[0;34m)\u001b[0m\u001b[0;34m:\u001b[0m\u001b[0;34m\u001b[0m\u001b[0;34m\u001b[0m\u001b[0m\n\u001b[0;32m--> 173\u001b[0;31m         \u001b[0;32mreturn\u001b[0m \u001b[0mself\u001b[0m\u001b[0;34m.\u001b[0m\u001b[0mmul\u001b[0m\u001b[0;34m(\u001b[0m\u001b[0mb\u001b[0m\u001b[0;34m)\u001b[0m\u001b[0;34m\u001b[0m\u001b[0;34m\u001b[0m\u001b[0m\n\u001b[0m\u001b[1;32m    174\u001b[0m \u001b[0;34m\u001b[0m\u001b[0m\n\u001b[1;32m    175\u001b[0m     \u001b[0;32mdef\u001b[0m \u001b[0m__rmul__\u001b[0m\u001b[0;34m(\u001b[0m\u001b[0mself\u001b[0m\u001b[0;34m,\u001b[0m \u001b[0mb\u001b[0m\u001b[0;34m)\u001b[0m\u001b[0;34m:\u001b[0m\u001b[0;34m\u001b[0m\u001b[0;34m\u001b[0m\u001b[0m\n",
            "\u001b[0;32m/usr/local/lib/python3.6/dist-packages/namedtensor/torch_helpers.py\u001b[0m in \u001b[0;36mcall\u001b[0;34m(other, *args)\u001b[0m\n\u001b[1;32m    295\u001b[0m                         \u001b[0mb1\u001b[0m \u001b[0;34m=\u001b[0m \u001b[0mb\u001b[0m\u001b[0;34m.\u001b[0m\u001b[0m_force_order\u001b[0m\u001b[0;34m(\u001b[0m\u001b[0morder\u001b[0m\u001b[0;34m)\u001b[0m\u001b[0;34m\u001b[0m\u001b[0;34m\u001b[0m\u001b[0m\n\u001b[1;32m    296\u001b[0m                         \u001b[0mmethod\u001b[0m \u001b[0;34m=\u001b[0m \u001b[0mgetattr\u001b[0m\u001b[0;34m(\u001b[0m\u001b[0ma1\u001b[0m\u001b[0;34m.\u001b[0m\u001b[0m_tensor\u001b[0m\u001b[0;34m,\u001b[0m \u001b[0mmethodname\u001b[0m\u001b[0;34m)\u001b[0m\u001b[0;34m\u001b[0m\u001b[0;34m\u001b[0m\u001b[0m\n\u001b[0;32m--> 297\u001b[0;31m                         \u001b[0massert_match\u001b[0m\u001b[0;34m(\u001b[0m\u001b[0ma1\u001b[0m\u001b[0;34m,\u001b[0m \u001b[0mb1\u001b[0m\u001b[0;34m)\u001b[0m\u001b[0;34m\u001b[0m\u001b[0;34m\u001b[0m\u001b[0m\n\u001b[0m\u001b[1;32m    298\u001b[0m                         \u001b[0;32mreturn\u001b[0m \u001b[0ma1\u001b[0m\u001b[0;34m.\u001b[0m\u001b[0m_new\u001b[0m\u001b[0;34m(\u001b[0m\u001b[0mmethod\u001b[0m\u001b[0;34m(\u001b[0m\u001b[0mb1\u001b[0m\u001b[0;34m.\u001b[0m\u001b[0m_tensor\u001b[0m\u001b[0;34m,\u001b[0m \u001b[0;34m*\u001b[0m\u001b[0margs\u001b[0m\u001b[0;34m)\u001b[0m\u001b[0;34m)\u001b[0m\u001b[0;34m\u001b[0m\u001b[0;34m\u001b[0m\u001b[0m\n\u001b[1;32m    299\u001b[0m                     \u001b[0;32melse\u001b[0m\u001b[0;34m:\u001b[0m\u001b[0;34m\u001b[0m\u001b[0;34m\u001b[0m\u001b[0m\n",
            "\u001b[0;32m/usr/local/lib/python3.6/dist-packages/namedtensor/core.py\u001b[0m in \u001b[0;36massert_match\u001b[0;34m(*tensors)\u001b[0m\n\u001b[1;32m     22\u001b[0m                 \u001b[0msizes\u001b[0m\u001b[0;34m[\u001b[0m\u001b[0mk\u001b[0m\u001b[0;34m]\u001b[0m \u001b[0;34m=\u001b[0m \u001b[0mv\u001b[0m\u001b[0;34m\u001b[0m\u001b[0;34m\u001b[0m\u001b[0m\n\u001b[1;32m     23\u001b[0m     assert not failure, \"Overlapping dim names must match: \" + \" \".join(\n\u001b[0;32m---> 24\u001b[0;31m         \u001b[0;34m[\u001b[0m\u001b[0mstr\u001b[0m\u001b[0;34m(\u001b[0m\u001b[0mt\u001b[0m\u001b[0;34m.\u001b[0m\u001b[0mshape\u001b[0m\u001b[0;34m)\u001b[0m \u001b[0;32mfor\u001b[0m \u001b[0mt\u001b[0m \u001b[0;32min\u001b[0m \u001b[0mtensors\u001b[0m\u001b[0;34m]\u001b[0m\u001b[0;34m\u001b[0m\u001b[0;34m\u001b[0m\u001b[0m\n\u001b[0m\u001b[1;32m     25\u001b[0m     )\n\u001b[1;32m     26\u001b[0m \u001b[0;34m\u001b[0m\u001b[0m\n",
            "\u001b[0;31mAssertionError\u001b[0m: Overlapping dim names must match: OrderedDict([('rows', 1), ('cols', 2)]) OrderedDict([('rows', 2), ('cols', 3)])"
          ]
        }
      ]
    },
    {
      "metadata": {
        "id": "ckmNcGpmKwri",
        "colab_type": "code",
        "colab": {}
      },
      "cell_type": "code",
      "source": [
        ""
      ],
      "execution_count": 0,
      "outputs": []
    }
  ]
}